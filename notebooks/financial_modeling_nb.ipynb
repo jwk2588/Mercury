{
 "cells": [
  {
   "cell_type": "code",
   "execution_count": null,
   "metadata": {},
   "outputs": [
    {
     "name": "stderr",
     "output_type": "stream",
     "text": [
      "'which' is not recognized as an internal or external command,\n",
      "operable program or batch file.\n"
     ]
    }
   ],
   "source": [
    "!which python"
   ]
  },
  {
   "cell_type": "code",
   "execution_count": null,
   "metadata": {},
   "outputs": [
    {
     "name": "stdout",
     "output_type": "stream",
     "text": [
      "fuzzywuzzy is installed and working.\n",
      "Levenshtein is installed and working.\n"
     ]
    }
   ],
   "source": [
    "import fuzzywuzzy\n",
    "print(\"fuzzywuzzy is installed and working.\")\n",
    "import Levenshtein\n",
    "print(\"Levenshtein is installed and working.\")"
   ]
  },
  {
   "cell_type": "code",
   "execution_count": null,
   "metadata": {},
   "outputs": [
    {
     "name": "stdout",
     "output_type": "stream",
     "text": [
      "c:\\Users\\jklei\\Anaconda3\\envs\\financial_modeling\\python.exe\n",
      "C:\\Users\\jklei\\Anaconda3\\python.exe\n"
     ]
    }
   ],
   "source": [
    "!where python\n"
   ]
  },
  {
   "cell_type": "code",
   "execution_count": null,
   "metadata": {},
   "outputs": [
    {
     "ename": "ImportError",
     "evalue": "cannot import name 'tag_line_item_indices' from 'scripts.utilities.data_transformation_utils' (C:\\Users\\jklei\\OneDrive - Convergix Automation\\Documents\\FinancialModeling_Project\\scripts\\utilities\\data_transformation_utils.py)",
     "output_type": "error",
     "traceback": [
      "\u001b[1;31m---------------------------------------------------------------------------\u001b[0m",
      "\u001b[1;31mImportError\u001b[0m                               Traceback (most recent call last)",
      "Cell \u001b[1;32mIn[7], line 3\u001b[0m\n\u001b[0;32m      1\u001b[0m \u001b[38;5;28;01mimport\u001b[39;00m \u001b[38;5;21;01mos\u001b[39;00m\n\u001b[0;32m      2\u001b[0m \u001b[38;5;28;01mimport\u001b[39;00m \u001b[38;5;21;01mpandas\u001b[39;00m \u001b[38;5;28;01mas\u001b[39;00m \u001b[38;5;21;01mpd\u001b[39;00m\n\u001b[1;32m----> 3\u001b[0m \u001b[38;5;28;01mfrom\u001b[39;00m \u001b[38;5;21;01mscripts\u001b[39;00m\u001b[38;5;21;01m.\u001b[39;00m\u001b[38;5;21;01mutilities\u001b[39;00m\u001b[38;5;21;01m.\u001b[39;00m\u001b[38;5;21;01mdata_transformation_utils\u001b[39;00m \u001b[38;5;28;01mimport\u001b[39;00m (\n\u001b[0;32m      4\u001b[0m     configure_logging,\n\u001b[0;32m      5\u001b[0m     get_data_paths,\n\u001b[0;32m      6\u001b[0m     tag_line_item_indices,\n\u001b[0;32m      7\u001b[0m     line_item_dict,\n\u001b[0;32m      8\u001b[0m )\n\u001b[0;32m     10\u001b[0m logger \u001b[38;5;241m=\u001b[39m configure_logging()\n\u001b[0;32m     12\u001b[0m \u001b[38;5;28;01mclass\u001b[39;00m \u001b[38;5;21;01mFinancialStatementTransformer\u001b[39;00m:\n",
      "\u001b[1;31mImportError\u001b[0m: cannot import name 'tag_line_item_indices' from 'scripts.utilities.data_transformation_utils' (C:\\Users\\jklei\\OneDrive - Convergix Automation\\Documents\\FinancialModeling_Project\\scripts\\utilities\\data_transformation_utils.py)"
     ]
    }
   ],
   "source": [
    "import os\n",
    "import pandas as pd\n",
    "from scripts.utilities.data_transformation_utils import (\n",
    "    configure_logging,\n",
    "    get_data_paths,\n",
    "    tag_line_item_indices,\n",
    "    line_item_dict,\n",
    ")\n",
    "\n",
    "logger = configure_logging()\n",
    "\n",
    "class FinancialStatementTransformer:\n",
    "    \"\"\"Base class for transforming financial statements with validation and testing entry points.\"\"\"\n",
    "\n",
    "    def __init__(self, statement_type: str):\n",
    "        self.statement_type = statement_type  # e.g., 'balance_sheet', 'income_statement', or 'cash_flow'\n",
    "        self.raw_file, self.processed_file, self.tagged_file = self.get_file_paths()\n",
    "        self.df = None  # Placeholder for the loaded DataFrame\n",
    "\n",
    "    def get_file_paths(self):\n",
    "        \"\"\"Constructs file paths for raw, processed, and tagged files.\"\"\"\n",
    "        raw_dir, processed_dir = get_data_paths()\n",
    "        raw_file = os.path.join(raw_dir, f'{self.statement_type}.csv')\n",
    "        processed_file = os.path.join(processed_dir, f'processed_{self.statement_type}.csv')\n",
    "        tagged_file = os.path.join(processed_dir, f'tagged_{self.statement_type}.csv')\n",
    "        return raw_file, processed_file, tagged_file\n",
    "\n",
    "    def load_data(self):\n",
    "        \"\"\"Loads raw financial statement data.\"\"\"\n",
    "        if not os.path.exists(self.raw_file):\n",
    "            raise FileNotFoundError(f\"Raw file not found: {self.raw_file}\")\n",
    "        self.df = pd.read_csv(self.raw_file)\n",
    "        logger.info(f\"Loaded {self.statement_type} data:\\n{self.df.head()}\")\n",
    "\n",
    "    def validate_data(self):\n",
    "        \"\"\"\n",
    "        Validates the raw data to ensure it can proceed with transformations.\n",
    "        Example checks: non-empty DataFrame, numeric values, and appropriate structure.\n",
    "        \"\"\"\n",
    "        if self.df is None or self.df.empty:\n",
    "            raise ValueError(f\"The raw data for {self.statement_type} is empty. Please check the source file.\")\n",
    "\n",
    "        # Example validation: Ensure the first column exists\n",
    "        first_column_name = self.df.columns[0]\n",
    "        if first_column_name == '':\n",
    "            raise ValueError(f\"The first column in the {self.statement_type} data is unnamed or blank.\")\n",
    "\n",
    "        # Example validation: Ensure at least one numeric column exists\n",
    "        numeric_cols = self.df.select_dtypes(include=['number']).columns\n",
    "        if numeric_cols.empty:\n",
    "            raise ValueError(f\"No numeric columns found in {self.statement_type} data for calculations.\")\n",
    "\n",
    "        logger.info(f\"{self.statement_type} data passed validation checks.\")\n",
    "\n",
    "    def transform_data(self):\n",
    "        \"\"\"Applies necessary transformations to the financial statement.\"\"\"\n",
    "        self.validate_data()  # Perform data validation before transformations\n",
    "\n",
    "        # Step 1: Identify and use the first column as the index\n",
    "        first_column_name = self.df.columns[0]\n",
    "\n",
    "        # Step 2: Sort data by the first column (ascending order)\n",
    "        self.df = self.df.sort_values(by=first_column_name, ascending=True).reset_index(drop=True)\n",
    "\n",
    "        # Step 3: Transpose the DataFrame\n",
    "        df_transposed = self.df.set_index(first_column_name).T\n",
    "\n",
    "        # Step 4: Add a helper column for sorting\n",
    "        df_transposed['Sort'] = range(len(df_transposed), 0, -1)\n",
    "\n",
    "        # Step 5: Validation checkpoint and diagnostic logging\n",
    "        logger.info(f\"Step 5 - Transposed data with 'Sort' column:\\n{df_transposed.head()}\")\n",
    "        # Allow manual inspection here if testing interactively\n",
    "\n",
    "        # Step 6: Sort by the helper column and drop it\n",
    "        df_sorted = df_transposed.sort_values(by='Sort', ascending=True).drop(columns=['Sort'])\n",
    "\n",
    "        # Step 7: Reset index and set new index as 'Category'\n",
    "        df_sorted.index.name = 'Category'\n",
    "\n",
    "        # Update the instance DataFrame\n",
    "        self.df = df_sorted.reset_index()\n",
    "        logger.info(f\"Transformed {self.statement_type} data:\\n{self.df.head()}\")\n",
    "\n",
    "    def tag_data(self):\n",
    "        \"\"\"Tags line items using the predefined dictionary.\"\"\"\n",
    "        if 'Category' not in self.df.columns:\n",
    "            logger.warning(f\"Column 'Category' not found in {self.statement_type} data.\")\n",
    "            return\n",
    "        self.df = tag_line_item_indices(self.df, line_item_dict)\n",
    "        logger.info(f\"Tagged {self.statement_type} data:\\n{self.df.head()}\")\n",
    "\n",
    "    def save_data(self, filename: str, data: pd.DataFrame):\n",
    "        \"\"\"Saves DataFrame to a specified file.\"\"\"\n",
    "        _, processed_dir = get_data_paths()\n",
    "        output_path = os.path.join(processed_dir, filename)\n",
    "        data.to_csv(output_path, index=False)\n",
    "        logger.info(f\"Saved data to {output_path}\")\n",
    "\n",
    "    def transform(self):\n",
    "        \"\"\"\n",
    "        Executes the full transformation pipeline.\n",
    "        Can be stopped or rerun from specific steps during testing.\n",
    "        \"\"\"\n",
    "        try:\n",
    "            self.load_data()\n",
    "            self.transform_data()\n",
    "\n",
    "            # Save intermediate data for inspection\n",
    "            self.save_data(f'processed_{self.statement_type}.csv', self.df)\n",
    "\n",
    "            # Tag and save tagged data\n",
    "            self.tag_data()\n",
    "            self.save_data(f'tagged_{self.statement_type}.csv', self.df)\n",
    "\n",
    "        except Exception as e:\n",
    "            logger.error(f\"Error transforming {self.statement_type}: {e}\")\n",
    "\n",
    "# Child classes for specific financial statements\n",
    "class BalanceSheetTransformer(FinancialStatementTransformer):\n",
    "    def __init__(self):\n",
    "        super().__init__('balance_sheet')\n",
    "\n",
    "class IncomeStatementTransformer(FinancialStatementTransformer):\n",
    "    def __init__(self):\n",
    "        super().__init__('income_statement')\n",
    "\n",
    "class CashFlowTransformer(FinancialStatementTransformer):\n",
    "    def __init__(self):\n",
    "        super().__init__('cash_flow')\n",
    "\n",
    "if __name__ == \"__main__\":\n",
    "    # Entry points for testing transformations\n",
    "    logger.info(\"Starting transformations for selected statements...\")\n",
    "    for Transformer in [BalanceSheetTransformer, IncomeStatementTransformer, CashFlowTransformer]:\n",
    "        transformer = Transformer()\n",
    "        transformer.transform()\n",
    "\n",
    "\n",
    "# scripts/data_preprocessing/balance_sheet_transformation.py\n",
    "\n",
    "from scripts.data_preprocessing.financial_statement_transformer import FinancialStatementTransformer\n",
    "\n",
    "class BalanceSheetTransformer(FinancialStatementTransformer):\n",
    "    def __init__(self):\n",
    "        super().__init__(\"balance_sheet\")\n",
    "\n",
    "if __name__ == \"__main__\":\n",
    "    transformer = BalanceSheetTransformer()\n",
    "    transformer.transform()\n"
   ]
  },
  {
   "cell_type": "code",
   "execution_count": null,
   "metadata": {},
   "outputs": [
    {
     "ename": "ImportError",
     "evalue": "cannot import name 'tag_line_item_indices' from 'scripts.utilities.data_transformation_utils' (C:\\Users\\jklei\\OneDrive - Convergix Automation\\Documents\\FinancialModeling_Project\\scripts\\utilities\\data_transformation_utils.py)",
     "output_type": "error",
     "traceback": [
      "\u001b[1;31m---------------------------------------------------------------------------\u001b[0m",
      "\u001b[1;31mImportError\u001b[0m                               Traceback (most recent call last)",
      "Cell \u001b[1;32mIn[8], line 1\u001b[0m\n\u001b[1;32m----> 1\u001b[0m \u001b[38;5;28;01mfrom\u001b[39;00m \u001b[38;5;21;01mscripts\u001b[39;00m\u001b[38;5;21;01m.\u001b[39;00m\u001b[38;5;21;01mdata_preprocessing\u001b[39;00m\u001b[38;5;21;01m.\u001b[39;00m\u001b[38;5;21;01mbalance_sheet_transformation\u001b[39;00m \u001b[38;5;28;01mimport\u001b[39;00m BalanceSheetTransformer\n\u001b[0;32m      3\u001b[0m \u001b[38;5;66;03m# Initialize the transformer\u001b[39;00m\n\u001b[0;32m      4\u001b[0m transformer \u001b[38;5;241m=\u001b[39m BalanceSheetTransformer()\n",
      "File \u001b[1;32m~\\OneDrive - Convergix Automation\\Documents\\FinancialModeling_Project\\scripts\\data_preprocessing\\balance_sheet_transformation.py:3\u001b[0m\n\u001b[0;32m      1\u001b[0m \u001b[38;5;66;03m# scripts/data_preprocessing/balance_sheet_transformation.py\u001b[39;00m\n\u001b[1;32m----> 3\u001b[0m \u001b[38;5;28;01mfrom\u001b[39;00m \u001b[38;5;21;01mscripts\u001b[39;00m\u001b[38;5;21;01m.\u001b[39;00m\u001b[38;5;21;01mdata_preprocessing\u001b[39;00m\u001b[38;5;21;01m.\u001b[39;00m\u001b[38;5;21;01mfinancial_statement_transformer\u001b[39;00m \u001b[38;5;28;01mimport\u001b[39;00m FinancialStatementTransformer\n\u001b[0;32m      5\u001b[0m \u001b[38;5;28;01mclass\u001b[39;00m \u001b[38;5;21;01mBalanceSheetTransformer\u001b[39;00m(FinancialStatementTransformer):\n\u001b[0;32m      6\u001b[0m     \u001b[38;5;28;01mdef\u001b[39;00m \u001b[38;5;21m__init__\u001b[39m(\u001b[38;5;28mself\u001b[39m):\n",
      "File \u001b[1;32m~\\OneDrive - Convergix Automation\\Documents\\FinancialModeling_Project\\scripts\\data_preprocessing\\financial_statement_transformer.py:3\u001b[0m\n\u001b[0;32m      1\u001b[0m \u001b[38;5;28;01mimport\u001b[39;00m \u001b[38;5;21;01mos\u001b[39;00m\n\u001b[0;32m      2\u001b[0m \u001b[38;5;28;01mimport\u001b[39;00m \u001b[38;5;21;01mpandas\u001b[39;00m \u001b[38;5;28;01mas\u001b[39;00m \u001b[38;5;21;01mpd\u001b[39;00m\n\u001b[1;32m----> 3\u001b[0m \u001b[38;5;28;01mfrom\u001b[39;00m \u001b[38;5;21;01mscripts\u001b[39;00m\u001b[38;5;21;01m.\u001b[39;00m\u001b[38;5;21;01mutilities\u001b[39;00m\u001b[38;5;21;01m.\u001b[39;00m\u001b[38;5;21;01mdata_transformation_utils\u001b[39;00m \u001b[38;5;28;01mimport\u001b[39;00m (\n\u001b[0;32m      4\u001b[0m     configure_logging,\n\u001b[0;32m      5\u001b[0m     get_data_paths,\n\u001b[0;32m      6\u001b[0m     tag_line_item_indices,\n\u001b[0;32m      7\u001b[0m     line_item_dict,\n\u001b[0;32m      8\u001b[0m )\n\u001b[0;32m     10\u001b[0m logger \u001b[38;5;241m=\u001b[39m configure_logging()\n\u001b[0;32m     12\u001b[0m \u001b[38;5;28;01mclass\u001b[39;00m \u001b[38;5;21;01mFinancialStatementTransformer\u001b[39;00m:\n",
      "\u001b[1;31mImportError\u001b[0m: cannot import name 'tag_line_item_indices' from 'scripts.utilities.data_transformation_utils' (C:\\Users\\jklei\\OneDrive - Convergix Automation\\Documents\\FinancialModeling_Project\\scripts\\utilities\\data_transformation_utils.py)"
     ]
    }
   ],
   "source": [
    "from scripts.data_preprocessing.balance_sheet_transformation import BalanceSheetTransformer\n",
    "\n",
    "# Initialize the transformer\n",
    "transformer = BalanceSheetTransformer()\n",
    "\n",
    "# Step 1: Load raw data\n",
    "df_raw = transformer.load_data()\n",
    "print(\"Raw Data:\")\n",
    "display(df_raw.head())\n",
    "\n",
    "# Step 2: Transform the data\n",
    "df_transformed = transformer.transform_data(df_raw)\n",
    "print(\"Transformed Data:\")\n",
    "display(df_transformed.head())\n",
    "\n",
    "# Step 3: Validate tagging\n",
    "df_tagged = transformer.tag_data(df_transformed)\n",
    "print(\"Tagged Data:\")\n",
    "display(df_tagged.head())\n"
   ]
  },
  {
   "cell_type": "code",
   "execution_count": null,
   "metadata": {},
   "outputs": [
    {
     "ename": "ImportError",
     "evalue": "cannot import name 'tag_line_item_indices' from 'scripts.utilities.data_transformation_utils' (C:\\Users\\jklei\\OneDrive - Convergix Automation\\Documents\\FinancialModeling_Project\\scripts\\utilities\\data_transformation_utils.py)",
     "output_type": "error",
     "traceback": [
      "\u001b[1;31m---------------------------------------------------------------------------\u001b[0m",
      "\u001b[1;31mImportError\u001b[0m                               Traceback (most recent call last)",
      "Cell \u001b[1;32mIn[9], line 3\u001b[0m\n\u001b[0;32m      1\u001b[0m \u001b[38;5;66;03m# scripts/data_preprocessing/balance_sheet_transformation.py\u001b[39;00m\n\u001b[1;32m----> 3\u001b[0m \u001b[38;5;28;01mfrom\u001b[39;00m \u001b[38;5;21;01mscripts\u001b[39;00m\u001b[38;5;21;01m.\u001b[39;00m\u001b[38;5;21;01mdata_preprocessing\u001b[39;00m\u001b[38;5;21;01m.\u001b[39;00m\u001b[38;5;21;01mfinancial_statement_transformer\u001b[39;00m \u001b[38;5;28;01mimport\u001b[39;00m FinancialStatementTransformer\n\u001b[0;32m      5\u001b[0m \u001b[38;5;28;01mclass\u001b[39;00m \u001b[38;5;21;01mBalanceSheetTransformer\u001b[39;00m(FinancialStatementTransformer):\n\u001b[0;32m      6\u001b[0m     \u001b[38;5;28;01mdef\u001b[39;00m \u001b[38;5;21m__init__\u001b[39m(\u001b[38;5;28mself\u001b[39m):\n",
      "File \u001b[1;32m~\\OneDrive - Convergix Automation\\Documents\\FinancialModeling_Project\\scripts\\data_preprocessing\\financial_statement_transformer.py:3\u001b[0m\n\u001b[0;32m      1\u001b[0m \u001b[38;5;28;01mimport\u001b[39;00m \u001b[38;5;21;01mos\u001b[39;00m\n\u001b[0;32m      2\u001b[0m \u001b[38;5;28;01mimport\u001b[39;00m \u001b[38;5;21;01mpandas\u001b[39;00m \u001b[38;5;28;01mas\u001b[39;00m \u001b[38;5;21;01mpd\u001b[39;00m\n\u001b[1;32m----> 3\u001b[0m \u001b[38;5;28;01mfrom\u001b[39;00m \u001b[38;5;21;01mscripts\u001b[39;00m\u001b[38;5;21;01m.\u001b[39;00m\u001b[38;5;21;01mutilities\u001b[39;00m\u001b[38;5;21;01m.\u001b[39;00m\u001b[38;5;21;01mdata_transformation_utils\u001b[39;00m \u001b[38;5;28;01mimport\u001b[39;00m (\n\u001b[0;32m      4\u001b[0m     configure_logging,\n\u001b[0;32m      5\u001b[0m     get_data_paths,\n\u001b[0;32m      6\u001b[0m     tag_line_item_indices,\n\u001b[0;32m      7\u001b[0m     line_item_dict,\n\u001b[0;32m      8\u001b[0m )\n\u001b[0;32m     10\u001b[0m logger \u001b[38;5;241m=\u001b[39m configure_logging()\n\u001b[0;32m     12\u001b[0m \u001b[38;5;28;01mclass\u001b[39;00m \u001b[38;5;21;01mFinancialStatementTransformer\u001b[39;00m:\n",
      "\u001b[1;31mImportError\u001b[0m: cannot import name 'tag_line_item_indices' from 'scripts.utilities.data_transformation_utils' (C:\\Users\\jklei\\OneDrive - Convergix Automation\\Documents\\FinancialModeling_Project\\scripts\\utilities\\data_transformation_utils.py)"
     ]
    }
   ],
   "source": [
    "# scripts/data_preprocessing/balance_sheet_transformation.py\n",
    "\n",
    "from scripts.data_preprocessing.financial_statement_transformer import FinancialStatementTransformer\n",
    "\n",
    "class BalanceSheetTransformer(FinancialStatementTransformer):\n",
    "    def __init__(self):\n",
    "        super().__init__(\"balance_sheet\")\n",
    "\n",
    "if __name__ == \"__main__\":\n",
    "    transformer = BalanceSheetTransformer()\n",
    "    transformer.transform()\n"
   ]
  },
  {
   "cell_type": "code",
   "execution_count": null,
   "metadata": {},
   "outputs": [
    {
     "ename": "ImportError",
     "evalue": "cannot import name 'tag_line_item_indices' from 'scripts.utilities.data_transformation_utils' (C:\\Users\\jklei\\OneDrive - Convergix Automation\\Documents\\FinancialModeling_Project\\scripts\\utilities\\data_transformation_utils.py)",
     "output_type": "error",
     "traceback": [
      "\u001b[1;31m---------------------------------------------------------------------------\u001b[0m",
      "\u001b[1;31mImportError\u001b[0m                               Traceback (most recent call last)",
      "Cell \u001b[1;32mIn[10], line 9\u001b[0m\n\u001b[0;32m      6\u001b[0m     sys\u001b[38;5;241m.\u001b[39mpath\u001b[38;5;241m.\u001b[39mappend(project_root)\n\u001b[0;32m      8\u001b[0m \u001b[38;5;66;03m# Import the BalanceSheetTransformer\u001b[39;00m\n\u001b[1;32m----> 9\u001b[0m \u001b[38;5;28;01mfrom\u001b[39;00m \u001b[38;5;21;01mscripts\u001b[39;00m\u001b[38;5;21;01m.\u001b[39;00m\u001b[38;5;21;01mdata_preprocessing\u001b[39;00m\u001b[38;5;21;01m.\u001b[39;00m\u001b[38;5;21;01mbalance_sheet_transformation\u001b[39;00m \u001b[38;5;28;01mimport\u001b[39;00m BalanceSheetTransformer\n\u001b[0;32m     11\u001b[0m \u001b[38;5;66;03m# Initialize the transformer\u001b[39;00m\n\u001b[0;32m     12\u001b[0m transformer \u001b[38;5;241m=\u001b[39m BalanceSheetTransformer()\n",
      "File \u001b[1;32m~\\OneDrive - Convergix Automation\\Documents\\FinancialModeling_Project\\scripts\\data_preprocessing\\balance_sheet_transformation.py:1\u001b[0m\n\u001b[1;32m----> 1\u001b[0m # scripts/data_preprocessing/balance_sheet_transformation.py\n\u001b[0;32m      3\u001b[0m from scripts.data_preprocessing.financial_statement_transformer import FinancialStatementTransformer\n\u001b[0;32m      5\u001b[0m class BalanceSheetTransformer(FinancialStatementTransformer):\n",
      "File \u001b[1;32m~\\OneDrive - Convergix Automation\\Documents\\FinancialModeling_Project\\scripts\\data_preprocessing\\financial_statement_transformer.py:3\u001b[0m\n\u001b[0;32m      1\u001b[0m \u001b[38;5;28;01mimport\u001b[39;00m \u001b[38;5;21;01mos\u001b[39;00m\n\u001b[0;32m      2\u001b[0m \u001b[38;5;28;01mimport\u001b[39;00m \u001b[38;5;21;01mpandas\u001b[39;00m \u001b[38;5;28;01mas\u001b[39;00m \u001b[38;5;21;01mpd\u001b[39;00m\n\u001b[1;32m----> 3\u001b[0m \u001b[38;5;28;01mfrom\u001b[39;00m \u001b[38;5;21;01mscripts\u001b[39;00m\u001b[38;5;21;01m.\u001b[39;00m\u001b[38;5;21;01mutilities\u001b[39;00m\u001b[38;5;21;01m.\u001b[39;00m\u001b[38;5;21;01mdata_transformation_utils\u001b[39;00m \u001b[38;5;28;01mimport\u001b[39;00m (\n\u001b[0;32m      4\u001b[0m     configure_logging,\n\u001b[0;32m      5\u001b[0m     get_data_paths,\n\u001b[0;32m      6\u001b[0m     tag_line_item_indices,\n\u001b[0;32m      7\u001b[0m     line_item_dict,\n\u001b[0;32m      8\u001b[0m )\n\u001b[0;32m     10\u001b[0m logger \u001b[38;5;241m=\u001b[39m configure_logging()\n\u001b[0;32m     12\u001b[0m \u001b[38;5;28;01mclass\u001b[39;00m \u001b[38;5;21;01mFinancialStatementTransformer\u001b[39;00m:\n",
      "\u001b[1;31mImportError\u001b[0m: cannot import name 'tag_line_item_indices' from 'scripts.utilities.data_transformation_utils' (C:\\Users\\jklei\\OneDrive - Convergix Automation\\Documents\\FinancialModeling_Project\\scripts\\utilities\\data_transformation_utils.py)"
     ]
    }
   ],
   "source": [
    "# Add the project root to sys.path if needed\n",
    "import os\n",
    "import sys\n",
    "project_root = os.path.abspath(\"..\")\n",
    "if project_root not in sys.path:\n",
    "    sys.path.append(project_root)\n",
    "\n",
    "# Import the BalanceSheetTransformer\n",
    "from scripts.data_preprocessing.balance_sheet_transformation import BalanceSheetTransformer\n",
    "\n",
    "# Initialize the transformer\n",
    "transformer = BalanceSheetTransformer()\n",
    "\n",
    "# Step 1: Load Data\n",
    "print(\"Step 1: Loading Data\")\n",
    "df = transformer.load_data()\n",
    "print(\"Raw Data:\")\n",
    "display(df.head())\n",
    "\n",
    "# Step 2: Transform Data\n",
    "print(\"Step 2: Transforming Data\")\n",
    "transformed_df = transformer.transform_data(df)\n",
    "print(\"Transformed Data:\")\n",
    "display(transformed_df.head())\n",
    "\n",
    "# Step 3: Tag Data\n",
    "print(\"Step 3: Tagging Data\")\n",
    "tagged_df = transformer.tag_data(transformed_df)\n",
    "print(\"Tagged Data:\")\n",
    "display(tagged_df.head())\n",
    "\n",
    "# Optional: Save Data (if desired during testing)\n",
    "# Uncomment the following lines if you want to save processed data during testing\n",
    "# transformer.save_data(transformed_df, transformer.processed_file)\n",
    "# transformer.save_data(tagged_df, transformer.tagged_file)\n"
   ]
  },
  {
   "cell_type": "code",
   "execution_count": null,
   "metadata": {},
   "outputs": [
    {
     "ename": "ImportError",
     "evalue": "cannot import name 'tag_line_item_indices' from 'scripts.utilities.data_transformation_utils' (C:\\Users\\jklei\\OneDrive - Convergix Automation\\Documents\\FinancialModeling_Project\\scripts\\utilities\\data_transformation_utils.py)",
     "output_type": "error",
     "traceback": [
      "\u001b[1;31m---------------------------------------------------------------------------\u001b[0m",
      "\u001b[1;31mImportError\u001b[0m                               Traceback (most recent call last)",
      "Cell \u001b[1;32mIn[11], line 7\u001b[0m\n\u001b[0;32m      5\u001b[0m \u001b[38;5;28;01mif\u001b[39;00m project_root \u001b[38;5;129;01mnot\u001b[39;00m \u001b[38;5;129;01min\u001b[39;00m sys\u001b[38;5;241m.\u001b[39mpath:\n\u001b[0;32m      6\u001b[0m     sys\u001b[38;5;241m.\u001b[39mpath\u001b[38;5;241m.\u001b[39mappend(project_root)\n\u001b[1;32m----> 7\u001b[0m \u001b[38;5;28;01mfrom\u001b[39;00m \u001b[38;5;21;01mscripts\u001b[39;00m\u001b[38;5;21;01m.\u001b[39;00m\u001b[38;5;21;01mdata_preprocessing\u001b[39;00m\u001b[38;5;21;01m.\u001b[39;00m\u001b[38;5;21;01mbalance_sheet_transformation\u001b[39;00m \u001b[38;5;28;01mimport\u001b[39;00m BalanceSheetTransformer\n\u001b[0;32m      9\u001b[0m \u001b[38;5;66;03m# Initialize the transformer\u001b[39;00m\n\u001b[0;32m     10\u001b[0m transformer \u001b[38;5;241m=\u001b[39m BalanceSheetTransformer()\n",
      "File \u001b[1;32m~\\OneDrive - Convergix Automation\\Documents\\FinancialModeling_Project\\scripts\\data_preprocessing\\balance_sheet_transformation.py:1\u001b[0m\n\u001b[1;32m----> 1\u001b[0m # scripts/data_preprocessing/balance_sheet_transformation.py\n\u001b[0;32m      3\u001b[0m from scripts.data_preprocessing.financial_statement_transformer import FinancialStatementTransformer\n\u001b[0;32m      5\u001b[0m class BalanceSheetTransformer(FinancialStatementTransformer):\n",
      "File \u001b[1;32m~\\OneDrive - Convergix Automation\\Documents\\FinancialModeling_Project\\scripts\\data_preprocessing\\financial_statement_transformer.py:3\u001b[0m\n\u001b[0;32m      1\u001b[0m \u001b[38;5;28;01mimport\u001b[39;00m \u001b[38;5;21;01mos\u001b[39;00m\n\u001b[0;32m      2\u001b[0m \u001b[38;5;28;01mimport\u001b[39;00m \u001b[38;5;21;01mpandas\u001b[39;00m \u001b[38;5;28;01mas\u001b[39;00m \u001b[38;5;21;01mpd\u001b[39;00m\n\u001b[1;32m----> 3\u001b[0m \u001b[38;5;28;01mfrom\u001b[39;00m \u001b[38;5;21;01mscripts\u001b[39;00m\u001b[38;5;21;01m.\u001b[39;00m\u001b[38;5;21;01mutilities\u001b[39;00m\u001b[38;5;21;01m.\u001b[39;00m\u001b[38;5;21;01mdata_transformation_utils\u001b[39;00m \u001b[38;5;28;01mimport\u001b[39;00m (\n\u001b[0;32m      4\u001b[0m     configure_logging,\n\u001b[0;32m      5\u001b[0m     get_data_paths,\n\u001b[0;32m      6\u001b[0m     tag_line_item_indices,\n\u001b[0;32m      7\u001b[0m     line_item_dict,\n\u001b[0;32m      8\u001b[0m )\n\u001b[0;32m     10\u001b[0m logger \u001b[38;5;241m=\u001b[39m configure_logging()\n\u001b[0;32m     12\u001b[0m \u001b[38;5;28;01mclass\u001b[39;00m \u001b[38;5;21;01mFinancialStatementTransformer\u001b[39;00m:\n",
      "\u001b[1;31mImportError\u001b[0m: cannot import name 'tag_line_item_indices' from 'scripts.utilities.data_transformation_utils' (C:\\Users\\jklei\\OneDrive - Convergix Automation\\Documents\\FinancialModeling_Project\\scripts\\utilities\\data_transformation_utils.py)"
     ]
    }
   ],
   "source": [
    "import sys\n",
    "import os\n",
    "\n",
    "project_root = os.path.abspath(\"..\")  # Adjust if needed\n",
    "if project_root not in sys.path:\n",
    "    sys.path.append(project_root)\n",
    "from scripts.data_preprocessing.balance_sheet_transformation import BalanceSheetTransformer\n",
    "\n",
    "# Initialize the transformer\n",
    "transformer = BalanceSheetTransformer()\n",
    "\n",
    "# Run the transformation process\n",
    "transformer.transform()\n"
   ]
  },
  {
   "cell_type": "code",
   "execution_count": null,
   "metadata": {},
   "outputs": [
    {
     "ename": "ImportError",
     "evalue": "cannot import name 'tag_line_item_indices' from 'scripts.utilities.data_transformation_utils' (C:\\Users\\jklei\\OneDrive - Convergix Automation\\Documents\\FinancialModeling_Project\\scripts\\utilities\\data_transformation_utils.py)",
     "output_type": "error",
     "traceback": [
      "\u001b[1;31m---------------------------------------------------------------------------\u001b[0m",
      "\u001b[1;31mImportError\u001b[0m                               Traceback (most recent call last)",
      "Cell \u001b[1;32mIn[12], line 2\u001b[0m\n\u001b[0;32m      1\u001b[0m \u001b[38;5;28;01mimport\u001b[39;00m \u001b[38;5;21;01mpandas\u001b[39;00m \u001b[38;5;28;01mas\u001b[39;00m \u001b[38;5;21;01mpd\u001b[39;00m\n\u001b[1;32m----> 2\u001b[0m \u001b[38;5;28;01mfrom\u001b[39;00m \u001b[38;5;21;01mscripts\u001b[39;00m\u001b[38;5;21;01m.\u001b[39;00m\u001b[38;5;21;01mutilities\u001b[39;00m\u001b[38;5;21;01m.\u001b[39;00m\u001b[38;5;21;01mdata_transformation_utils\u001b[39;00m \u001b[38;5;28;01mimport\u001b[39;00m tag_line_item_indices, line_item_dict\n\u001b[0;32m      4\u001b[0m \u001b[38;5;66;03m# Sample DataFrame\u001b[39;00m\n\u001b[0;32m      5\u001b[0m data \u001b[38;5;241m=\u001b[39m {\u001b[38;5;124m\"\u001b[39m\u001b[38;5;124mCategory\u001b[39m\u001b[38;5;124m\"\u001b[39m: [\u001b[38;5;124m\"\u001b[39m\u001b[38;5;124mRevenue\u001b[39m\u001b[38;5;124m\"\u001b[39m, \u001b[38;5;124m\"\u001b[39m\u001b[38;5;124mOperating Expenses\u001b[39m\u001b[38;5;124m\"\u001b[39m, \u001b[38;5;124m\"\u001b[39m\u001b[38;5;124mNet Profit\u001b[39m\u001b[38;5;124m\"\u001b[39m]}\n",
      "\u001b[1;31mImportError\u001b[0m: cannot import name 'tag_line_item_indices' from 'scripts.utilities.data_transformation_utils' (C:\\Users\\jklei\\OneDrive - Convergix Automation\\Documents\\FinancialModeling_Project\\scripts\\utilities\\data_transformation_utils.py)"
     ]
    }
   ],
   "source": [
    "import pandas as pd\n",
    "from scripts.utilities.data_transformation_utils import tag_line_item_indices, line_item_dict\n",
    "\n",
    "# Sample DataFrame\n",
    "data = {\"Category\": [\"Revenue\", \"Operating Expenses\", \"Net Profit\"]}\n",
    "df = pd.DataFrame(data)\n",
    "\n",
    "# Apply the tagging function\n",
    "tagged_df = tag_line_item_indices(df, line_item_dict)\n",
    "print(tagged_df)\n"
   ]
  },
  {
   "cell_type": "code",
   "execution_count": null,
   "metadata": {},
   "outputs": [
    {
     "ename": "ImportError",
     "evalue": "cannot import name 'tag_line_item_indices' from 'scripts.utilities.data_transformation_utils' (C:\\Users\\jklei\\OneDrive - Convergix Automation\\Documents\\FinancialModeling_Project\\scripts\\utilities\\data_transformation_utils.py)",
     "output_type": "error",
     "traceback": [
      "\u001b[1;31m---------------------------------------------------------------------------\u001b[0m",
      "\u001b[1;31mImportError\u001b[0m                               Traceback (most recent call last)",
      "Cell \u001b[1;32mIn[14], line 11\u001b[0m\n\u001b[0;32m      8\u001b[0m     sys\u001b[38;5;241m.\u001b[39mpath\u001b[38;5;241m.\u001b[39mappend(project_root)\n\u001b[0;32m     10\u001b[0m \u001b[38;5;66;03m# Import the utilities module\u001b[39;00m\n\u001b[1;32m---> 11\u001b[0m \u001b[38;5;28;01mfrom\u001b[39;00m \u001b[38;5;21;01mscripts\u001b[39;00m\u001b[38;5;21;01m.\u001b[39;00m\u001b[38;5;21;01mutilities\u001b[39;00m\u001b[38;5;21;01m.\u001b[39;00m\u001b[38;5;21;01mdata_transformation_utils\u001b[39;00m \u001b[38;5;28;01mimport\u001b[39;00m (\n\u001b[0;32m     12\u001b[0m     tag_line_item_indices,\n\u001b[0;32m     13\u001b[0m     line_item_dict,\n\u001b[0;32m     14\u001b[0m     configure_logging\n\u001b[0;32m     15\u001b[0m )\n\u001b[0;32m     17\u001b[0m \u001b[38;5;28;01mimport\u001b[39;00m \u001b[38;5;21;01mpandas\u001b[39;00m \u001b[38;5;28;01mas\u001b[39;00m \u001b[38;5;21;01mpd\u001b[39;00m\n\u001b[0;32m     19\u001b[0m \u001b[38;5;66;03m# Configure logging for Jupyter notebook\u001b[39;00m\n",
      "\u001b[1;31mImportError\u001b[0m: cannot import name 'tag_line_item_indices' from 'scripts.utilities.data_transformation_utils' (C:\\Users\\jklei\\OneDrive - Convergix Automation\\Documents\\FinancialModeling_Project\\scripts\\utilities\\data_transformation_utils.py)"
     ]
    }
   ],
   "source": [
    "# Jupyter Notebook: Test Data Transformation Utilities\n",
    "\n",
    "# Ensure the project directory is accessible\n",
    "import os\n",
    "import sys\n",
    "project_root = os.path.abspath(\"..\")  # Adjust path as needed\n",
    "if project_root not in sys.path:\n",
    "    sys.path.append(project_root)\n",
    "\n",
    "# Import the utilities module\n",
    "from scripts.utilities.data_transformation_utils import (\n",
    "    tag_line_item_indices,\n",
    "    line_item_dict,\n",
    "    configure_logging\n",
    ")\n",
    "\n",
    "import pandas as pd\n",
    "\n",
    "# Configure logging for Jupyter notebook\n",
    "logger = configure_logging()\n",
    "\n",
    "# Sample DataFrame for Testing\n",
    "data = {\n",
    "    \"Category\": [\"Revenue\", \"Operating Expenses\", \"Unknown Item\"],\n",
    "    \"2022\": [1000, 200, 50],\n",
    "    \"2023\": [1100, 250, 60]\n",
    "}\n",
    "\n",
    "df = pd.DataFrame(data)\n",
    "print(\"Original DataFrame:\")\n",
    "display(df)\n",
    "\n",
    "# Apply the tagging function\n",
    "try:\n",
    "    tagged_df = tag_line_item_indices(df, line_item_dict)\n",
    "    print(\"Tagged DataFrame:\")\n",
    "    display(tagged_df)\n",
    "except KeyError as e:\n",
    "    logger.error(f\"Error during tagging: {e}\")\n",
    "\n",
    "# Archiving Example\n",
    "source_dir = os.path.join(project_root, \"data\", \"raw\")\n",
    "archive_dir = os.path.join(project_root, \"data\", \"archive\")\n",
    "print(\"Archiving files...\")\n",
    "try:\n",
    "    # Ensure directories exist for testing\n",
    "    os.makedirs(source_dir, exist_ok=True)\n",
    "    os.makedirs(archive_dir, exist_ok=True)\n",
    "\n",
    "    # Run the archive function\n",
    "    archive_files(source_dir, archive_dir)\n",
    "    print(f\"Files archived from {source_dir} to {archive_dir}\")\n",
    "except Exception as e:\n",
    "    logger.error(f\"Error during archiving: {e}\")\n"
   ]
  },
  {
   "cell_type": "code",
   "execution_count": null,
   "metadata": {},
   "outputs": [
    {
     "ename": "TypeError",
     "evalue": "tag_line_item_indices.<locals>.<lambda>() got an unexpected keyword argument 'axis'",
     "output_type": "error",
     "traceback": [
      "\u001b[1;31m---------------------------------------------------------------------------\u001b[0m",
      "\u001b[1;31mTypeError\u001b[0m                                 Traceback (most recent call last)",
      "Cell \u001b[1;32mIn[1], line 27\u001b[0m\n\u001b[0;32m     21\u001b[0m \u001b[38;5;66;03m# Example usage of tag_line_item_indices\u001b[39;00m\n\u001b[0;32m     22\u001b[0m df \u001b[38;5;241m=\u001b[39m pd\u001b[38;5;241m.\u001b[39mDataFrame({\n\u001b[0;32m     23\u001b[0m     \u001b[38;5;124m'\u001b[39m\u001b[38;5;124mLineItem\u001b[39m\u001b[38;5;124m'\u001b[39m: [\u001b[38;5;124m'\u001b[39m\u001b[38;5;124mRevenue\u001b[39m\u001b[38;5;124m'\u001b[39m, \u001b[38;5;124m'\u001b[39m\u001b[38;5;124mCost of Goods Sold\u001b[39m\u001b[38;5;124m'\u001b[39m, \u001b[38;5;124m'\u001b[39m\u001b[38;5;124mGross Profit\u001b[39m\u001b[38;5;124m'\u001b[39m, \u001b[38;5;124m'\u001b[39m\u001b[38;5;124mOperating Expenses\u001b[39m\u001b[38;5;124m'\u001b[39m, \u001b[38;5;124m'\u001b[39m\u001b[38;5;124mNet Income\u001b[39m\u001b[38;5;124m'\u001b[39m],\n\u001b[0;32m     24\u001b[0m     \u001b[38;5;124m'\u001b[39m\u001b[38;5;124mValue\u001b[39m\u001b[38;5;124m'\u001b[39m: [\u001b[38;5;241m1000\u001b[39m, \u001b[38;5;241m500\u001b[39m, \u001b[38;5;241m500\u001b[39m, \u001b[38;5;241m200\u001b[39m, \u001b[38;5;241m300\u001b[39m]\n\u001b[0;32m     25\u001b[0m })\n\u001b[1;32m---> 27\u001b[0m tagged_indices \u001b[38;5;241m=\u001b[39m tag_line_item_indices(df[\u001b[38;5;124m'\u001b[39m\u001b[38;5;124mLineItem\u001b[39m\u001b[38;5;124m'\u001b[39m], line_item_dict)\n\u001b[0;32m     28\u001b[0m \u001b[38;5;28mprint\u001b[39m(tagged_indices)\n",
      "File \u001b[1;32m~\\OneDrive - Convergix Automation\\Documents\\FinancialModeling_Project\\scripts\\utilities\\data_transformation_utils.py:121\u001b[0m, in \u001b[0;36mtag_line_item_indices\u001b[1;34m(df, line_item_dict)\u001b[0m\n\u001b[0;32m    119\u001b[0m \u001b[38;5;28;01mfor\u001b[39;00m line_item, aliases \u001b[38;5;129;01min\u001b[39;00m line_item_dict\u001b[38;5;241m.\u001b[39mitems():\n\u001b[0;32m    120\u001b[0m     \u001b[38;5;28;01mfor\u001b[39;00m alias \u001b[38;5;129;01min\u001b[39;00m aliases:\n\u001b[1;32m--> 121\u001b[0m         matches \u001b[38;5;241m=\u001b[39m df\u001b[38;5;241m.\u001b[39mapply(\u001b[38;5;28;01mlambda\u001b[39;00m row: process\u001b[38;5;241m.\u001b[39mextractOne(alias, row), axis\u001b[38;5;241m=\u001b[39m\u001b[38;5;241m1\u001b[39m)\n\u001b[0;32m    122\u001b[0m         \u001b[38;5;28;01mfor\u001b[39;00m idx, match \u001b[38;5;129;01min\u001b[39;00m \u001b[38;5;28menumerate\u001b[39m(matches):\n\u001b[0;32m    123\u001b[0m             \u001b[38;5;28;01mif\u001b[39;00m match[\u001b[38;5;241m1\u001b[39m] \u001b[38;5;241m>\u001b[39m \u001b[38;5;241m80\u001b[39m:  \u001b[38;5;66;03m# Threshold for fuzzy matching\u001b[39;00m\n",
      "File \u001b[1;32mc:\\Users\\jklei\\Anaconda3\\envs\\financial_modeling\\Lib\\site-packages\\pandas\\core\\series.py:4924\u001b[0m, in \u001b[0;36mSeries.apply\u001b[1;34m(self, func, convert_dtype, args, by_row, **kwargs)\u001b[0m\n\u001b[0;32m   4789\u001b[0m \u001b[38;5;28;01mdef\u001b[39;00m \u001b[38;5;21mapply\u001b[39m(\n\u001b[0;32m   4790\u001b[0m     \u001b[38;5;28mself\u001b[39m,\n\u001b[0;32m   4791\u001b[0m     func: AggFuncType,\n\u001b[1;32m   (...)\u001b[0m\n\u001b[0;32m   4796\u001b[0m     \u001b[38;5;241m*\u001b[39m\u001b[38;5;241m*\u001b[39mkwargs,\n\u001b[0;32m   4797\u001b[0m ) \u001b[38;5;241m-\u001b[39m\u001b[38;5;241m>\u001b[39m DataFrame \u001b[38;5;241m|\u001b[39m Series:\n\u001b[0;32m   4798\u001b[0m \u001b[38;5;250m    \u001b[39m\u001b[38;5;124;03m\"\"\"\u001b[39;00m\n\u001b[0;32m   4799\u001b[0m \u001b[38;5;124;03m    Invoke function on values of Series.\u001b[39;00m\n\u001b[0;32m   4800\u001b[0m \n\u001b[1;32m   (...)\u001b[0m\n\u001b[0;32m   4915\u001b[0m \u001b[38;5;124;03m    dtype: float64\u001b[39;00m\n\u001b[0;32m   4916\u001b[0m \u001b[38;5;124;03m    \"\"\"\u001b[39;00m\n\u001b[0;32m   4917\u001b[0m     \u001b[38;5;28;01mreturn\u001b[39;00m SeriesApply(\n\u001b[0;32m   4918\u001b[0m         \u001b[38;5;28mself\u001b[39m,\n\u001b[0;32m   4919\u001b[0m         func,\n\u001b[0;32m   4920\u001b[0m         convert_dtype\u001b[38;5;241m=\u001b[39mconvert_dtype,\n\u001b[0;32m   4921\u001b[0m         by_row\u001b[38;5;241m=\u001b[39mby_row,\n\u001b[0;32m   4922\u001b[0m         args\u001b[38;5;241m=\u001b[39margs,\n\u001b[0;32m   4923\u001b[0m         kwargs\u001b[38;5;241m=\u001b[39mkwargs,\n\u001b[1;32m-> 4924\u001b[0m     )\u001b[38;5;241m.\u001b[39mapply()\n",
      "File \u001b[1;32mc:\\Users\\jklei\\Anaconda3\\envs\\financial_modeling\\Lib\\site-packages\\pandas\\core\\apply.py:1427\u001b[0m, in \u001b[0;36mSeriesApply.apply\u001b[1;34m(self)\u001b[0m\n\u001b[0;32m   1424\u001b[0m     \u001b[38;5;28;01mreturn\u001b[39;00m \u001b[38;5;28mself\u001b[39m\u001b[38;5;241m.\u001b[39mapply_compat()\n\u001b[0;32m   1426\u001b[0m \u001b[38;5;66;03m# self.func is Callable\u001b[39;00m\n\u001b[1;32m-> 1427\u001b[0m \u001b[38;5;28;01mreturn\u001b[39;00m \u001b[38;5;28mself\u001b[39m\u001b[38;5;241m.\u001b[39mapply_standard()\n",
      "File \u001b[1;32mc:\\Users\\jklei\\Anaconda3\\envs\\financial_modeling\\Lib\\site-packages\\pandas\\core\\apply.py:1507\u001b[0m, in \u001b[0;36mSeriesApply.apply_standard\u001b[1;34m(self)\u001b[0m\n\u001b[0;32m   1501\u001b[0m \u001b[38;5;66;03m# row-wise access\u001b[39;00m\n\u001b[0;32m   1502\u001b[0m \u001b[38;5;66;03m# apply doesn't have a `na_action` keyword and for backward compat reasons\u001b[39;00m\n\u001b[0;32m   1503\u001b[0m \u001b[38;5;66;03m# we need to give `na_action=\"ignore\"` for categorical data.\u001b[39;00m\n\u001b[0;32m   1504\u001b[0m \u001b[38;5;66;03m# TODO: remove the `na_action=\"ignore\"` when that default has been changed in\u001b[39;00m\n\u001b[0;32m   1505\u001b[0m \u001b[38;5;66;03m#  Categorical (GH51645).\u001b[39;00m\n\u001b[0;32m   1506\u001b[0m action \u001b[38;5;241m=\u001b[39m \u001b[38;5;124m\"\u001b[39m\u001b[38;5;124mignore\u001b[39m\u001b[38;5;124m\"\u001b[39m \u001b[38;5;28;01mif\u001b[39;00m \u001b[38;5;28misinstance\u001b[39m(obj\u001b[38;5;241m.\u001b[39mdtype, CategoricalDtype) \u001b[38;5;28;01melse\u001b[39;00m \u001b[38;5;28;01mNone\u001b[39;00m\n\u001b[1;32m-> 1507\u001b[0m mapped \u001b[38;5;241m=\u001b[39m obj\u001b[38;5;241m.\u001b[39m_map_values(\n\u001b[0;32m   1508\u001b[0m     mapper\u001b[38;5;241m=\u001b[39mcurried, na_action\u001b[38;5;241m=\u001b[39maction, convert\u001b[38;5;241m=\u001b[39m\u001b[38;5;28mself\u001b[39m\u001b[38;5;241m.\u001b[39mconvert_dtype\n\u001b[0;32m   1509\u001b[0m )\n\u001b[0;32m   1511\u001b[0m \u001b[38;5;28;01mif\u001b[39;00m \u001b[38;5;28mlen\u001b[39m(mapped) \u001b[38;5;129;01mand\u001b[39;00m \u001b[38;5;28misinstance\u001b[39m(mapped[\u001b[38;5;241m0\u001b[39m], ABCSeries):\n\u001b[0;32m   1512\u001b[0m     \u001b[38;5;66;03m# GH#43986 Need to do list(mapped) in order to get treated as nested\u001b[39;00m\n\u001b[0;32m   1513\u001b[0m     \u001b[38;5;66;03m#  See also GH#25959 regarding EA support\u001b[39;00m\n\u001b[0;32m   1514\u001b[0m     \u001b[38;5;28;01mreturn\u001b[39;00m obj\u001b[38;5;241m.\u001b[39m_constructor_expanddim(\u001b[38;5;28mlist\u001b[39m(mapped), index\u001b[38;5;241m=\u001b[39mobj\u001b[38;5;241m.\u001b[39mindex)\n",
      "File \u001b[1;32mc:\\Users\\jklei\\Anaconda3\\envs\\financial_modeling\\Lib\\site-packages\\pandas\\core\\base.py:921\u001b[0m, in \u001b[0;36mIndexOpsMixin._map_values\u001b[1;34m(self, mapper, na_action, convert)\u001b[0m\n\u001b[0;32m    918\u001b[0m \u001b[38;5;28;01mif\u001b[39;00m \u001b[38;5;28misinstance\u001b[39m(arr, ExtensionArray):\n\u001b[0;32m    919\u001b[0m     \u001b[38;5;28;01mreturn\u001b[39;00m arr\u001b[38;5;241m.\u001b[39mmap(mapper, na_action\u001b[38;5;241m=\u001b[39mna_action)\n\u001b[1;32m--> 921\u001b[0m \u001b[38;5;28;01mreturn\u001b[39;00m algorithms\u001b[38;5;241m.\u001b[39mmap_array(arr, mapper, na_action\u001b[38;5;241m=\u001b[39mna_action, convert\u001b[38;5;241m=\u001b[39mconvert)\n",
      "File \u001b[1;32mc:\\Users\\jklei\\Anaconda3\\envs\\financial_modeling\\Lib\\site-packages\\pandas\\core\\algorithms.py:1743\u001b[0m, in \u001b[0;36mmap_array\u001b[1;34m(arr, mapper, na_action, convert)\u001b[0m\n\u001b[0;32m   1741\u001b[0m values \u001b[38;5;241m=\u001b[39m arr\u001b[38;5;241m.\u001b[39mastype(\u001b[38;5;28mobject\u001b[39m, copy\u001b[38;5;241m=\u001b[39m\u001b[38;5;28;01mFalse\u001b[39;00m)\n\u001b[0;32m   1742\u001b[0m \u001b[38;5;28;01mif\u001b[39;00m na_action \u001b[38;5;129;01mis\u001b[39;00m \u001b[38;5;28;01mNone\u001b[39;00m:\n\u001b[1;32m-> 1743\u001b[0m     \u001b[38;5;28;01mreturn\u001b[39;00m lib\u001b[38;5;241m.\u001b[39mmap_infer(values, mapper, convert\u001b[38;5;241m=\u001b[39mconvert)\n\u001b[0;32m   1744\u001b[0m \u001b[38;5;28;01melse\u001b[39;00m:\n\u001b[0;32m   1745\u001b[0m     \u001b[38;5;28;01mreturn\u001b[39;00m lib\u001b[38;5;241m.\u001b[39mmap_infer_mask(\n\u001b[0;32m   1746\u001b[0m         values, mapper, mask\u001b[38;5;241m=\u001b[39misna(values)\u001b[38;5;241m.\u001b[39mview(np\u001b[38;5;241m.\u001b[39muint8), convert\u001b[38;5;241m=\u001b[39mconvert\n\u001b[0;32m   1747\u001b[0m     )\n",
      "File \u001b[1;32mlib.pyx:2972\u001b[0m, in \u001b[0;36mpandas._libs.lib.map_infer\u001b[1;34m()\u001b[0m\n",
      "File \u001b[1;32mc:\\Users\\jklei\\Anaconda3\\envs\\financial_modeling\\Lib\\site-packages\\pandas\\core\\apply.py:1496\u001b[0m, in \u001b[0;36mSeriesApply.apply_standard.<locals>.curried\u001b[1;34m(x)\u001b[0m\n\u001b[0;32m   1495\u001b[0m \u001b[38;5;28;01mdef\u001b[39;00m \u001b[38;5;21mcurried\u001b[39m(x):\n\u001b[1;32m-> 1496\u001b[0m     \u001b[38;5;28;01mreturn\u001b[39;00m func(x, \u001b[38;5;241m*\u001b[39m\u001b[38;5;28mself\u001b[39m\u001b[38;5;241m.\u001b[39margs, \u001b[38;5;241m*\u001b[39m\u001b[38;5;241m*\u001b[39m\u001b[38;5;28mself\u001b[39m\u001b[38;5;241m.\u001b[39mkwargs)\n",
      "\u001b[1;31mTypeError\u001b[0m: tag_line_item_indices.<locals>.<lambda>() got an unexpected keyword argument 'axis'"
     ]
    }
   ],
   "source": [
    "import sys\n",
    "import os\n",
    "\n",
    "# Add the project root to the system path\n",
    "project_root = os.path.abspath(os.path.join(os.getcwd(), \"..\"))\n",
    "if project_root not in sys.path:\n",
    "    sys.path.append(project_root)\n",
    "\n",
    "# Import the utilities module\n",
    "from scripts.utilities.data_transformation_utils import (\n",
    "    tag_line_item_indices,\n",
    "    line_item_dict,\n",
    "    configure_logging\n",
    ")\n",
    "\n",
    "import pandas as pd\n",
    "\n",
    "# Configure logging for Jupyter notebook\n",
    "logger = configure_logging()\n",
    "\n",
    "# Example usage of tag_line_item_indices\n",
    "df = pd.DataFrame({\n",
    "    'LineItem': ['Revenue', 'Cost of Goods Sold', 'Gross Profit', 'Operating Expenses', 'Net Income'],\n",
    "    'Value': [1000, 500, 500, 200, 300]\n",
    "})\n",
    "\n",
    "tagged_indices = tag_line_item_indices(df['LineItem'], line_item_dict)\n",
    "print(tagged_indices)"
   ]
  },
  {
   "cell_type": "code",
   "execution_count": null,
   "metadata": {},
   "outputs": [],
   "source": []
  },
  {
   "cell_type": "markdown",
   "metadata": {},
   "source": [
    "In Visual Studio Code (VS Code), the \"Tab Moves Focus\" feature allows you to use the `Tab` key to move the focus between different UI elements, such as panels, editors, and input fields, rather than inserting a tab character in the text editor.\n",
    "\n",
    "### How to Use \"Tab Moves Focus\"\n",
    "\n",
    "1. **Enable/Disable \"Tab Moves Focus\"**:\n",
    "   - You can toggle this feature by pressing `Ctrl + M` (Windows/Linux) or `Cmd + M` (Mac).\n",
    "   - When enabled, pressing the `Tab` key will move the focus to the next focusable element in the UI.\n",
    "   - When disabled, pressing the `Tab` key will insert a tab character in the text editor.\n",
    "\n",
    "2. **Use Cases**:\n",
    "   - **Enabled**: Useful when you want to navigate between different UI elements without using the mouse. For example, moving from the editor to the Problems panel, then to the Terminal, etc.\n",
    "   - **Disabled**: Useful when you are editing code and want to insert tab characters for indentation.\n",
    "\n",
    "### Example Scenario\n",
    "\n",
    "Let's say you are working in a Jupyter notebook and want to quickly switch focus between the editor and the Problems panel:\n",
    "\n",
    "1. **Enable \"Tab Moves Focus\"**:\n",
    "   - Press `Ctrl + M` to enable \"Tab Moves Focus\".\n",
    "\n",
    "2. **Navigate Using Tab**:\n",
    "   - Press the `Tab` key to move the focus from the editor to the Problems panel.\n",
    "   - Press `Tab` again to move the focus to the Terminal.\n",
    "\n",
    "3. **Disable \"Tab Moves Focus\"**:\n",
    "   - Press `Ctrl + M` again to disable \"Tab Moves Focus\" and return to normal tab behavior in the editor.\n",
    "\n",
    "### Practical Example\n",
    "\n",
    "If you have an error in your Jupyter notebook and want to quickly navigate to the Problems panel to see the details:\n",
    "\n",
    "1. **Enable \"Tab Moves Focus\"**:\n",
    "   - Press `Ctrl + M`.\n",
    "\n",
    "2. **Navigate to Problems Panel**:\n",
    "   - Press `Tab` until the focus is on the Problems panel.\n",
    "\n",
    "3. **View and Fix the Error**:\n",
    "   - Click on the error message to navigate to the corresponding line in the notebook.\n",
    "   - Fix the error in the notebook.\n",
    "\n",
    "4. **Disable \"Tab Moves Focus\"**:\n",
    "   - Press `Ctrl + M` to return to normal tab behavior.\n",
    "\n",
    "By using the \"Tab Moves Focus\" feature, you can efficiently navigate between different parts of the VS Code interface without relying on the mouse."
   ]
  },
  {
   "cell_type": "code",
   "execution_count": null,
   "metadata": {},
   "outputs": [
    {
     "name": "stdout",
     "output_type": "stream",
     "text": [
      "Sample data created and saved to 'financial_data.csv':\n",
      "   Year  Revenue  Expenses\n",
      "0  2024     1000       700\n",
      "1  2025     1100       750\n",
      "2  2026     1200       800\n",
      "3  2027     1300       850\n"
     ]
    }
   ],
   "source": [
    "# Import pandas to handle data\n",
    "import pandas as pd\n",
    "import numpy_financial as npf\n",
    "\n",
    "# Create sample financial data\n",
    "data = pd.DataFrame({\n",
    "    \"Year\": [2024, 2025, 2026, 2027],\n",
    "    \"Revenue\": [1000, 1100, 1200, 1300],\n",
    "    \"Expenses\": [700, 750, 800, 850],\n",
    "})\n",
    "\n",
    "# Save the data to a CSV file for testing\n",
    "data.to_csv(\"financial_data.csv\", index=False)\n",
    "\n",
    "# Confirm that the file is saved and display its contents\n",
    "print(\"Sample data created and saved to 'financial_data.csv':\")\n",
    "print(data)\n"
   ]
  },
  {
   "cell_type": "code",
   "execution_count": null,
   "metadata": {},
   "outputs": [
    {
     "name": "stdout",
     "output_type": "stream",
     "text": [
      "Loaded data:\n",
      "   Year  Revenue  Expenses\n",
      "0  2024     1000       700\n",
      "1  2025     1100       750\n",
      "2  2026     1200       800\n",
      "3  2027     1300       850\n"
     ]
    }
   ],
   "source": [
    "# Load the data from the CSV file\n",
    "df = pd.read_csv(\"financial_data.csv\")\n",
    "\n",
    "# Display the loaded data\n",
    "print(\"Loaded data:\")\n",
    "print(df)\n"
   ]
  },
  {
   "cell_type": "code",
   "execution_count": null,
   "metadata": {},
   "outputs": [
    {
     "name": "stdout",
     "output_type": "stream",
     "text": [
      "Data with calculated Net Income and Cash Flow:\n",
      "   Year  Revenue  Expenses  Net Income  Cash Flow\n",
      "0  2024     1000       700         300        300\n",
      "1  2025     1100       750         350        350\n",
      "2  2026     1200       800         400        400\n",
      "3  2027     1300       850         450        450\n"
     ]
    }
   ],
   "source": [
    "# Calculate Net Income and Cash Flows\n",
    "df[\"Net Income\"] = df[\"Revenue\"] - df[\"Expenses\"]\n",
    "df[\"Cash Flow\"] = df[\"Net Income\"]  # Assuming cash flow = net income for simplicity\n",
    "\n",
    "# Display the updated DataFrame with new columns\n",
    "print(\"Data with calculated Net Income and Cash Flow:\")\n",
    "print(df)\n"
   ]
  },
  {
   "cell_type": "code",
   "execution_count": null,
   "metadata": {},
   "outputs": [
    {
     "name": "stdout",
     "output_type": "stream",
     "text": [
      "Financial model data exported to 'financial_model_output.xlsx'.\n"
     ]
    }
   ],
   "source": [
    "# Export the DataFrame to an Excel file\n",
    "df.to_excel(\"financial_model_output.xlsx\", index=False)\n",
    "\n",
    "# Confirm export\n",
    "print(\"Financial model data exported to 'financial_model_output.xlsx'.\")\n"
   ]
  },
  {
   "cell_type": "code",
   "execution_count": null,
   "metadata": {},
   "outputs": [
    {
     "name": "stdout",
     "output_type": "stream",
     "text": [
      "Collecting numpy-financial\n",
      "  Downloading numpy_financial-1.0.0-py3-none-any.whl.metadata (2.2 kB)\n",
      "Requirement already satisfied: numpy>=1.15 in c:\\users\\jklei\\anaconda3\\envs\\financial_modeling\\lib\\site-packages (from numpy-financial) (1.26.4)\n",
      "Downloading numpy_financial-1.0.0-py3-none-any.whl (14 kB)\n",
      "Installing collected packages: numpy-financial\n",
      "Successfully installed numpy-financial-1.0.0\n",
      "Note: you may need to restart the kernel to use updated packages.\n"
     ]
    }
   ],
   "source": [
    "pip install numpy-financial\n"
   ]
  },
  {
   "cell_type": "code",
   "execution_count": null,
   "metadata": {},
   "outputs": [
    {
     "name": "stdout",
     "output_type": "stream",
     "text": [
      "Formatted financial model data exported to 'financial_model_output_formatted.xlsx'.\n"
     ]
    }
   ],
   "source": [
    "from openpyxl import Workbook\n",
    "from openpyxl.styles import Font\n",
    "\n",
    "# Create a new Excel workbook\n",
    "wb = Workbook()\n",
    "ws = wb.active\n",
    "\n",
    "# Write the header row\n",
    "header = list(df.columns)\n",
    "ws.append(header)\n",
    "\n",
    "# Write the data rows\n",
    "for row in df.values.tolist():\n",
    "    ws.append(row)\n",
    "\n",
    "# Apply bold formatting to header\n",
    "for cell in ws[1]:\n",
    "    cell.font = Font(bold=True)\n",
    "\n",
    "# Save the workbook\n",
    "wb.save(\"financial_model_output_formatted.xlsx\")\n",
    "\n",
    "# Confirm export\n",
    "print(\"Formatted financial model data exported to 'financial_model_output_formatted.xlsx'.\")\n"
   ]
  },
  {
   "cell_type": "code",
   "execution_count": null,
   "metadata": {},
   "outputs": [
    {
     "name": "stdout",
     "output_type": "stream",
     "text": [
      "Net Present Value (NPV): 1286.85\n"
     ]
    }
   ],
   "source": [
    "import numpy_financial as npf\n",
    "\n",
    "# Define the discount rate (e.g., 10%)\n",
    "discount_rate = 0.10\n",
    "\n",
    "# Extract cash flows into a list\n",
    "cash_flows = df[\"Cash Flow\"].tolist()\n",
    "\n",
    "# Perform NPV calculation using numpy\n",
    "npv= npf.npv(discount_rate, cash_flows)\n",
    "\n",
    "# Display the Net Present Value (NPV)\n",
    "print(f\"Net Present Value (NPV): {npv:.2f}\")"
   ]
  },
  {
   "cell_type": "code",
   "execution_count": null,
   "metadata": {},
   "outputs": [
    {
     "name": "stdout",
     "output_type": "stream",
     "text": [
      "Updated Net Present Value (NPV) with discount rate: 12.0%: 1251.68\n"
     ]
    },
    {
     "ename": "",
     "evalue": "",
     "output_type": "error",
     "traceback": [
      "\u001b[1;31mThe Kernel crashed while executing code in the current cell or a previous cell. \n",
      "\u001b[1;31mPlease review the code in the cell(s) to identify a possible cause of the failure. \n",
      "\u001b[1;31mClick <a href='https://aka.ms/vscodeJupyterKernelCrash'>here</a> for more info. \n",
      "\u001b[1;31mView Jupyter <a href='command:jupyter.viewOutput'>log</a> for further details."
     ]
    }
   ],
   "source": [
    "import numpy_financial as npf\n",
    "\n",
    "\n",
    "# Prompt user for a new discount rate\n",
    "new_discount_rate = float(input(\"Enter a new discount rate (e.g., 0.10 for 10%): \"))\n",
    "\n",
    "# Recalculate NPV with the new discount rate\n",
    "updated_npv = npf.npv(new_discount_rate, cash_flows)\n",
    "\n",
    "# Display the updated NPV\n",
    "print(f\"Updated Net Present Value (NPV) with discount rate: {new_discount_rate * 100:.1f}%: {updated_npv:.2f}\")\n"
   ]
  },
  {
   "cell_type": "code",
   "execution_count": 1,
   "metadata": {},
   "outputs": [
    {
     "ename": "AttributeError",
     "evalue": "'NoneType' object has no attribute 'handlers'",
     "output_type": "error",
     "traceback": [
      "\u001b[1;31m---------------------------------------------------------------------------\u001b[0m",
      "\u001b[1;31mAttributeError\u001b[0m                            Traceback (most recent call last)",
      "Cell \u001b[1;32mIn[1], line 4\u001b[0m\n\u001b[0;32m      2\u001b[0m \u001b[38;5;28;01mimport\u001b[39;00m \u001b[38;5;21;01msys\u001b[39;00m\n\u001b[0;32m      3\u001b[0m \u001b[38;5;28;01mimport\u001b[39;00m \u001b[38;5;21;01mlogging\u001b[39;00m\n\u001b[1;32m----> 4\u001b[0m \u001b[38;5;28;01mfrom\u001b[39;00m \u001b[38;5;21;01mscripts\u001b[39;00m\u001b[38;5;21;01m.\u001b[39;00m\u001b[38;5;21;01mdata_ingestion\u001b[39;00m\u001b[38;5;21;01m.\u001b[39;00m\u001b[38;5;21;01mdata_retrieval\u001b[39;00m \u001b[38;5;28;01mimport\u001b[39;00m main \u001b[38;5;28;01mas\u001b[39;00m data_retrieval_main\n\u001b[0;32m      5\u001b[0m \u001b[38;5;28;01mfrom\u001b[39;00m \u001b[38;5;21;01mscripts\u001b[39;00m\u001b[38;5;21;01m.\u001b[39;00m\u001b[38;5;21;01mdata_preprocessing\u001b[39;00m\u001b[38;5;21;01m.\u001b[39;00m\u001b[38;5;21;01mbalance_sheet_transformation\u001b[39;00m \u001b[38;5;28;01mimport\u001b[39;00m BalanceSheetTransformer\n\u001b[0;32m      6\u001b[0m \u001b[38;5;28;01mfrom\u001b[39;00m \u001b[38;5;21;01mscripts\u001b[39;00m\u001b[38;5;21;01m.\u001b[39;00m\u001b[38;5;21;01mdata_preprocessing\u001b[39;00m\u001b[38;5;21;01m.\u001b[39;00m\u001b[38;5;21;01mincome_statement_transformation\u001b[39;00m \u001b[38;5;28;01mimport\u001b[39;00m IncomeStatementTransformer\n",
      "File \u001b[1;32m~\\OneDrive - Convergix Automation\\Documents\\FinancialModeling_Project\\scripts\\data_ingestion\\data_retrieval.py:7\u001b[0m\n\u001b[0;32m      4\u001b[0m \u001b[38;5;28;01mfrom\u001b[39;00m \u001b[38;5;21;01mtyping\u001b[39;00m \u001b[38;5;28;01mimport\u001b[39;00m Dict\n\u001b[0;32m      5\u001b[0m \u001b[38;5;28;01mfrom\u001b[39;00m \u001b[38;5;21;01mscripts\u001b[39;00m\u001b[38;5;21;01m.\u001b[39;00m\u001b[38;5;21;01mutilities\u001b[39;00m\u001b[38;5;21;01m.\u001b[39;00m\u001b[38;5;21;01mdata_transformation_utils\u001b[39;00m \u001b[38;5;28;01mimport\u001b[39;00m get_data_paths, configure_logging\n\u001b[1;32m----> 7\u001b[0m logger \u001b[38;5;241m=\u001b[39m configure_logging()\n\u001b[0;32m      9\u001b[0m \u001b[38;5;28;01mdef\u001b[39;00m \u001b[38;5;21mget_financial_data_yfinance\u001b[39m(ticker_symbol: \u001b[38;5;28mstr\u001b[39m) \u001b[38;5;241m-\u001b[39m\u001b[38;5;241m>\u001b[39m Dict[\u001b[38;5;28mstr\u001b[39m, pd\u001b[38;5;241m.\u001b[39mDataFrame]:\n\u001b[0;32m     10\u001b[0m \u001b[38;5;250m    \u001b[39m\u001b[38;5;124;03m\"\"\"\u001b[39;00m\n\u001b[0;32m     11\u001b[0m \u001b[38;5;124;03m    Fetches financial statements for the given ticker symbol using yfinance.\u001b[39;00m\n\u001b[0;32m     12\u001b[0m \n\u001b[1;32m   (...)\u001b[0m\n\u001b[0;32m     18\u001b[0m \u001b[38;5;124;03m        as DataFrames for income statement, balance sheet, and cash flow.\u001b[39;00m\n\u001b[0;32m     19\u001b[0m \u001b[38;5;124;03m    \"\"\"\u001b[39;00m\n",
      "File \u001b[1;32m~\\OneDrive - Convergix Automation\\Documents\\FinancialModeling_Project\\scripts\\utilities\\data_transformation_utils.py:13\u001b[0m, in \u001b[0;36mconfigure_logging\u001b[1;34m()\u001b[0m\n\u001b[0;32m     12\u001b[0m \u001b[38;5;28;01mdef\u001b[39;00m \u001b[38;5;21mconfigure_logging\u001b[39m():\n\u001b[1;32m---> 13\u001b[0m     \u001b[38;5;28;01mif\u001b[39;00m \u001b[38;5;129;01mnot\u001b[39;00m logger\u001b[38;5;241m.\u001b[39mhandlers:\n\u001b[0;32m     14\u001b[0m         handler \u001b[38;5;241m=\u001b[39m logging\u001b[38;5;241m.\u001b[39mStreamHandler()\n\u001b[0;32m     15\u001b[0m         handler\u001b[38;5;241m.\u001b[39msetLevel(logging\u001b[38;5;241m.\u001b[39mINFO)\n",
      "\u001b[1;31mAttributeError\u001b[0m: 'NoneType' object has no attribute 'handlers'"
     ]
    }
   ],
   "source": [
    "import os\n",
    "import sys\n",
    "import logging\n",
    "from scripts.data_ingestion.data_retrieval import main as data_retrieval_main\n",
    "from scripts.data_preprocessing.balance_sheet_transformation import BalanceSheetTransformer\n",
    "from scripts.data_preprocessing.income_statement_transformation import IncomeStatementTransformer\n",
    "from scripts.data_preprocessing.cash_flow_transformation import CashFlowTransformer\n",
    "from scripts.generate_scripts import main as generate_scripts_main\n",
    "from scripts.utilities.data_transformation_utils import (\n",
    "    configure_logging,\n",
    "    get_data_paths,\n",
    "    archive_files,\n",
    "    prune_archives,\n",
    ")\n",
    "\n",
    "# Configure logging\n",
    "logger = configure_logging()\n",
    "\n",
    "def validate_and_archive_folders():\n",
    "    \"\"\"Validates the folder structure and archives existing files.\"\"\"\n",
    "    raw_data_dir, processed_data_dir = get_data_paths()\n",
    "\n",
    "    # Define archive folders\n",
    "    raw_archive_dir = os.path.join(raw_data_dir, 'archive')\n",
    "    processed_archive_dir = os.path.join(processed_data_dir, 'archive')\n",
    "\n",
    "    # Ensure directories exist\n",
    "    for directory in [raw_data_dir, processed_data_dir, raw_archive_dir, processed_archive_dir]:\n",
    "        os.makedirs(directory, exist_ok=True)\n",
    "        logger.info(f\"Validated or created directory: {directory}\")\n",
    "\n",
    "def main():\n",
    "    \"\"\"Main function to run the data processing pipeline.\"\"\"\n",
    "    validate_and_archive_folders()\n",
    "\n",
    "    # Run data retrieval\n",
    "    data_retrieval_main()\n",
    "\n",
    "    # Process balance sheet data\n",
    "    balance_sheet_transformer = BalanceSheetTransformer()\n",
    "    balance_sheet_transformer.load_data()\n",
    "    balance_sheet_transformer.process_data()\n",
    "    balance_sheet_transformer.tag_data()\n",
    "    balance_sheet_transformer.archive_files()\n",
    "\n",
    "    # Process income statement data\n",
    "    income_statement_transformer = IncomeStatementTransformer()\n",
    "    income_statement_transformer.load_data()\n",
    "    income_statement_transformer.process_data()\n",
    "    income_statement_transformer.tag_data()\n",
    "    income_statement_transformer.archive_files()\n",
    "\n",
    "    # Process cash flow data\n",
    "    cash_flow_transformer = CashFlowTransformer()\n",
    "    cash_flow_transformer.load_data()\n",
    "    cash_flow_transformer.process_data()\n",
    "    cash_flow_transformer.tag_data()\n",
    "    cash_flow_transformer.archive_files()\n",
    "\n",
    "    # Generate scripts\n",
    "    generate_scripts_main()\n",
    "\n",
    "if __name__ == \"__main__\":\n",
    "    main()"
   ]
  }
 ],
 "metadata": {
  "kernelspec": {
   "display_name": "financial_modeling",
   "language": "python",
   "name": "python3"
  },
  "language_info": {
   "codemirror_mode": {
    "name": "ipython",
    "version": 3
   },
   "file_extension": ".py",
   "mimetype": "text/x-python",
   "name": "python",
   "nbconvert_exporter": "python",
   "pygments_lexer": "ipython3",
   "version": "3.11.10"
  }
 },
 "nbformat": 4,
 "nbformat_minor": 2
}
