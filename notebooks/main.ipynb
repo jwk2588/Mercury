{
 "cells": [
  {
   "cell_type": "code",
   "execution_count": 6,
   "metadata": {},
   "outputs": [
    {
     "ename": "AttributeError",
     "evalue": "'NoneType' object has no attribute 'handlers'",
     "output_type": "error",
     "traceback": [
      "\u001b[1;31m---------------------------------------------------------------------------\u001b[0m",
      "\u001b[1;31mAttributeError\u001b[0m                            Traceback (most recent call last)",
      "Cell \u001b[1;32mIn[6], line 10\u001b[0m\n\u001b[0;32m      8\u001b[0m \u001b[38;5;66;03m# Import methods and functions from main.py\u001b[39;00m\n\u001b[0;32m      9\u001b[0m \u001b[38;5;28;01mfrom\u001b[39;00m \u001b[38;5;21;01mscripts\u001b[39;00m\u001b[38;5;21;01m.\u001b[39;00m\u001b[38;5;21;01mutilities\u001b[39;00m\u001b[38;5;21;01m.\u001b[39;00m\u001b[38;5;21;01mdata_transformation_utils\u001b[39;00m \u001b[38;5;28;01mimport\u001b[39;00m configure_logging\n\u001b[1;32m---> 10\u001b[0m \u001b[38;5;28;01mfrom\u001b[39;00m \u001b[38;5;21;01mmain\u001b[39;00m \u001b[38;5;28;01mimport\u001b[39;00m validate_and_archive_folders, run_data_ingestion, run_data_preprocessing\n\u001b[0;32m     12\u001b[0m \u001b[38;5;66;03m# Configure Logging\u001b[39;00m\n\u001b[0;32m     13\u001b[0m logger \u001b[38;5;241m=\u001b[39m configure_logging()\n",
      "File \u001b[1;32m~\\OneDrive - Convergix Automation\\Documents\\FinancialModeling_Project\\main.py:8\u001b[0m\n\u001b[0;32m      6\u001b[0m \u001b[38;5;28;01mfrom\u001b[39;00m \u001b[38;5;21;01mscripts\u001b[39;00m\u001b[38;5;21;01m.\u001b[39;00m\u001b[38;5;21;01mdata_preprocessing\u001b[39;00m\u001b[38;5;21;01m.\u001b[39;00m\u001b[38;5;21;01mincome_statement_transformation\u001b[39;00m \u001b[38;5;28;01mimport\u001b[39;00m IncomeStatementTransformer\n\u001b[0;32m      7\u001b[0m \u001b[38;5;28;01mfrom\u001b[39;00m \u001b[38;5;21;01mscripts\u001b[39;00m\u001b[38;5;21;01m.\u001b[39;00m\u001b[38;5;21;01mdata_preprocessing\u001b[39;00m\u001b[38;5;21;01m.\u001b[39;00m\u001b[38;5;21;01mcash_flow_transformation\u001b[39;00m \u001b[38;5;28;01mimport\u001b[39;00m CashFlowTransformer\n\u001b[1;32m----> 8\u001b[0m \u001b[38;5;28;01mfrom\u001b[39;00m \u001b[38;5;21;01mscripts\u001b[39;00m\u001b[38;5;21;01m.\u001b[39;00m\u001b[38;5;21;01mgenerate_scripts\u001b[39;00m \u001b[38;5;28;01mimport\u001b[39;00m main \u001b[38;5;28;01mas\u001b[39;00m generate_scripts_main\n\u001b[0;32m      9\u001b[0m \u001b[38;5;28;01mfrom\u001b[39;00m \u001b[38;5;21;01mscripts\u001b[39;00m\u001b[38;5;21;01m.\u001b[39;00m\u001b[38;5;21;01mutilities\u001b[39;00m\u001b[38;5;21;01m.\u001b[39;00m\u001b[38;5;21;01mdata_transformation_utils\u001b[39;00m \u001b[38;5;28;01mimport\u001b[39;00m (\n\u001b[0;32m     10\u001b[0m     configure_logging,\n\u001b[0;32m     11\u001b[0m     get_data_paths,\n\u001b[0;32m     12\u001b[0m     archive_files,\n\u001b[0;32m     13\u001b[0m     prune_archives,\n\u001b[0;32m     14\u001b[0m )\n\u001b[0;32m     16\u001b[0m \u001b[38;5;66;03m# Configure logging\u001b[39;00m\n",
      "File \u001b[1;32m~\\OneDrive - Convergix Automation\\Documents\\FinancialModeling_Project\\scripts\\generate_scripts.py:12\u001b[0m\n\u001b[0;32m      4\u001b[0m \u001b[38;5;28;01mimport\u001b[39;00m \u001b[38;5;21;01mpandas\u001b[39;00m \u001b[38;5;28;01mas\u001b[39;00m \u001b[38;5;21;01mpd\u001b[39;00m\n\u001b[0;32m      5\u001b[0m \u001b[38;5;28;01mfrom\u001b[39;00m \u001b[38;5;21;01mscripts\u001b[39;00m\u001b[38;5;21;01m.\u001b[39;00m\u001b[38;5;21;01mutilities\u001b[39;00m\u001b[38;5;21;01m.\u001b[39;00m\u001b[38;5;21;01mdata_transformation_utils\u001b[39;00m \u001b[38;5;28;01mimport\u001b[39;00m (\n\u001b[0;32m      6\u001b[0m     configure_logging,\n\u001b[0;32m      7\u001b[0m     get_data_paths,\n\u001b[0;32m      8\u001b[0m     archive_files,\n\u001b[0;32m      9\u001b[0m     prune_archives,\n\u001b[0;32m     10\u001b[0m )\n\u001b[1;32m---> 12\u001b[0m logger \u001b[38;5;241m=\u001b[39m configure_logging()\n\u001b[0;32m     14\u001b[0m \u001b[38;5;28;01mdef\u001b[39;00m \u001b[38;5;21mload_historical_data\u001b[39m():\n\u001b[0;32m     15\u001b[0m \u001b[38;5;250m    \u001b[39m\u001b[38;5;124;03m\"\"\"Loads the transformed and tagged financial statements.\"\"\"\u001b[39;00m\n",
      "File \u001b[1;32m~\\OneDrive - Convergix Automation\\Documents\\FinancialModeling_Project\\scripts\\utilities\\data_transformation_utils.py:13\u001b[0m, in \u001b[0;36mconfigure_logging\u001b[1;34m()\u001b[0m\n\u001b[0;32m     12\u001b[0m \u001b[38;5;28;01mdef\u001b[39;00m \u001b[38;5;21mconfigure_logging\u001b[39m():\n\u001b[1;32m---> 13\u001b[0m     \u001b[38;5;28;01mif\u001b[39;00m \u001b[38;5;129;01mnot\u001b[39;00m logger\u001b[38;5;241m.\u001b[39mhandlers:\n\u001b[0;32m     14\u001b[0m         handler \u001b[38;5;241m=\u001b[39m logging\u001b[38;5;241m.\u001b[39mStreamHandler()\n\u001b[0;32m     15\u001b[0m         handler\u001b[38;5;241m.\u001b[39msetLevel(logging\u001b[38;5;241m.\u001b[39mINFO)\n",
      "\u001b[1;31mAttributeError\u001b[0m: 'NoneType' object has no attribute 'handlers'"
     ]
    }
   ],
   "source": [
    "# Add the project root to sys.path if needed\n",
    "import os\n",
    "import sys\n",
    "project_root = os.path.abspath(\".\")\n",
    "if project_root not in sys.path:\n",
    "    sys.path.append(project_root)\n",
    "\n",
    "# Import methods and functions from main.py\n",
    "from scripts.utilities.data_transformation_utils import configure_logging\n",
    "from main import validate_and_archive_folders, run_data_ingestion, run_data_preprocessing\n",
    "\n",
    "# Configure Logging\n",
    "logger = configure_logging()\n",
    "\n",
    "# Step 1: Validate and Archive Folders\n",
    "print(\"Step 1: Validating and Archiving Folders\")\n",
    "validate_and_archive_folders()\n",
    "\n",
    "# Step 2: Run Data Ingestion\n",
    "print(\"Step 2: Running Data Ingestion\")\n",
    "run_data_ingestion()\n",
    "\n",
    "# Step 3: Run Data Preprocessing\n",
    "print(\"Step 3: Running Data Preprocessing\")\n",
    "run_data_preprocessing()\n",
    "\n",
    "# If you want to test the entire main workflow\n",
    "# Uncomment the following lines\n",
    "# from main import main\n",
    "# main()\n"
   ]
  },
  {
   "cell_type": "code",
   "execution_count": null,
   "metadata": {},
   "outputs": [
    {
     "ename": "AttributeError",
     "evalue": "'NoneType' object has no attribute 'handlers'",
     "output_type": "error",
     "traceback": [
      "\u001b[1;31m---------------------------------------------------------------------------\u001b[0m",
      "\u001b[1;31mAttributeError\u001b[0m                            Traceback (most recent call last)",
      "Cell \u001b[1;32mIn[1], line 4\u001b[0m\n\u001b[0;32m      2\u001b[0m \u001b[38;5;28;01mimport\u001b[39;00m \u001b[38;5;21;01msys\u001b[39;00m\n\u001b[0;32m      3\u001b[0m \u001b[38;5;28;01mimport\u001b[39;00m \u001b[38;5;21;01mlogging\u001b[39;00m\n\u001b[1;32m----> 4\u001b[0m \u001b[38;5;28;01mfrom\u001b[39;00m \u001b[38;5;21;01mscripts\u001b[39;00m\u001b[38;5;21;01m.\u001b[39;00m\u001b[38;5;21;01mdata_ingestion\u001b[39;00m\u001b[38;5;21;01m.\u001b[39;00m\u001b[38;5;21;01mdata_retrieval\u001b[39;00m \u001b[38;5;28;01mimport\u001b[39;00m main \u001b[38;5;28;01mas\u001b[39;00m data_retrieval_main\n\u001b[0;32m      5\u001b[0m \u001b[38;5;28;01mfrom\u001b[39;00m \u001b[38;5;21;01mscripts\u001b[39;00m\u001b[38;5;21;01m.\u001b[39;00m\u001b[38;5;21;01mdata_preprocessing\u001b[39;00m\u001b[38;5;21;01m.\u001b[39;00m\u001b[38;5;21;01mbalance_sheet_transformation\u001b[39;00m \u001b[38;5;28;01mimport\u001b[39;00m BalanceSheetTransformer\n\u001b[0;32m      6\u001b[0m \u001b[38;5;28;01mfrom\u001b[39;00m \u001b[38;5;21;01mscripts\u001b[39;00m\u001b[38;5;21;01m.\u001b[39;00m\u001b[38;5;21;01mdata_preprocessing\u001b[39;00m\u001b[38;5;21;01m.\u001b[39;00m\u001b[38;5;21;01mincome_statement_transformation\u001b[39;00m \u001b[38;5;28;01mimport\u001b[39;00m IncomeStatementTransformer\n",
      "File \u001b[1;32m~\\OneDrive - Convergix Automation\\Documents\\FinancialModeling_Project\\scripts\\data_ingestion\\data_retrieval.py:7\u001b[0m\n\u001b[0;32m      4\u001b[0m \u001b[38;5;28;01mfrom\u001b[39;00m \u001b[38;5;21;01mtyping\u001b[39;00m \u001b[38;5;28;01mimport\u001b[39;00m Dict\n\u001b[0;32m      5\u001b[0m \u001b[38;5;28;01mfrom\u001b[39;00m \u001b[38;5;21;01mscripts\u001b[39;00m\u001b[38;5;21;01m.\u001b[39;00m\u001b[38;5;21;01mutilities\u001b[39;00m\u001b[38;5;21;01m.\u001b[39;00m\u001b[38;5;21;01mdata_transformation_utils\u001b[39;00m \u001b[38;5;28;01mimport\u001b[39;00m get_data_paths, configure_logging\n\u001b[1;32m----> 7\u001b[0m logger \u001b[38;5;241m=\u001b[39m configure_logging()\n\u001b[0;32m      9\u001b[0m \u001b[38;5;28;01mdef\u001b[39;00m \u001b[38;5;21mget_financial_data_yfinance\u001b[39m(ticker_symbol: \u001b[38;5;28mstr\u001b[39m) \u001b[38;5;241m-\u001b[39m\u001b[38;5;241m>\u001b[39m Dict[\u001b[38;5;28mstr\u001b[39m, pd\u001b[38;5;241m.\u001b[39mDataFrame]:\n\u001b[0;32m     10\u001b[0m \u001b[38;5;250m    \u001b[39m\u001b[38;5;124;03m\"\"\"\u001b[39;00m\n\u001b[0;32m     11\u001b[0m \u001b[38;5;124;03m    Fetches financial statements for the given ticker symbol using yfinance.\u001b[39;00m\n\u001b[0;32m     12\u001b[0m \n\u001b[1;32m   (...)\u001b[0m\n\u001b[0;32m     18\u001b[0m \u001b[38;5;124;03m        as DataFrames for income statement, balance sheet, and cash flow.\u001b[39;00m\n\u001b[0;32m     19\u001b[0m \u001b[38;5;124;03m    \"\"\"\u001b[39;00m\n",
      "File \u001b[1;32m~\\OneDrive - Convergix Automation\\Documents\\FinancialModeling_Project\\scripts\\utilities\\data_transformation_utils.py:13\u001b[0m, in \u001b[0;36mconfigure_logging\u001b[1;34m()\u001b[0m\n\u001b[0;32m     12\u001b[0m \u001b[38;5;28;01mdef\u001b[39;00m \u001b[38;5;21mconfigure_logging\u001b[39m():\n\u001b[1;32m---> 13\u001b[0m     \u001b[38;5;28;01mif\u001b[39;00m \u001b[38;5;129;01mnot\u001b[39;00m logger\u001b[38;5;241m.\u001b[39mhandlers:\n\u001b[0;32m     14\u001b[0m         handler \u001b[38;5;241m=\u001b[39m logging\u001b[38;5;241m.\u001b[39mStreamHandler()\n\u001b[0;32m     15\u001b[0m         handler\u001b[38;5;241m.\u001b[39msetLevel(logging\u001b[38;5;241m.\u001b[39mINFO)\n",
      "\u001b[1;31mAttributeError\u001b[0m: 'NoneType' object has no attribute 'handlers'"
     ]
    }
   ],
   "source": [
    "import os\n",
    "import sys\n",
    "import logging\n",
    "from scripts.data_ingestion.data_retrieval import main as data_retrieval_main\n",
    "from scripts.data_preprocessing.balance_sheet_transformation import BalanceSheetTransformer\n",
    "from scripts.data_preprocessing.income_statement_transformation import IncomeStatementTransformer\n",
    "from scripts.data_preprocessing.cash_flow_transformation import CashFlowTransformer\n",
    "from scripts.generate_scripts import main as generate_scripts_main\n",
    "from scripts.utilities.data_transformation_utils import (\n",
    "    configure_logging,\n",
    "    get_data_paths,\n",
    "    archive_files,\n",
    "    prune_archives,\n",
    ")\n",
    "\n",
    "# Configure logging\n",
    "logger = configure_logging()\n",
    "\n",
    "def validate_and_archive_folders():\n",
    "    \"\"\"Validates the folder structure and archives existing files.\"\"\"\n",
    "    raw_data_dir, processed_data_dir = get_data_paths()\n",
    "\n",
    "    # Define archive folders\n",
    "    raw_archive_dir = os.path.join(raw_data_dir, 'archive')\n",
    "    processed_archive_dir = os.path.join(processed_data_dir, 'archive')\n",
    "\n",
    "    # Ensure directories exist\n",
    "    for directory in [raw_data_dir, processed_data_dir, raw_archive_dir, processed_archive_dir]:\n",
    "        os.makedirs(directory, exist_ok=True)\n",
    "        logger.info(f\"Validated or created directory: {directory}\")\n",
    "\n",
    "def main():\n",
    "    \"\"\"Main function to run the data processing pipeline.\"\"\"\n",
    "    validate_and_archive_folders()\n",
    "\n",
    "    # Run data retrieval\n",
    "    data_retrieval_main()\n",
    "\n",
    "    # Process balance sheet data\n",
    "    balance_sheet_transformer = BalanceSheetTransformer()\n",
    "    balance_sheet_transformer.load_data()\n",
    "    balance_sheet_transformer.process_data()\n",
    "    balance_sheet_transformer.tag_data()\n",
    "    balance_sheet_transformer.archive_files()\n",
    "\n",
    "    # Process income statement data\n",
    "    income_statement_transformer = IncomeStatementTransformer()\n",
    "    income_statement_transformer.load_data()\n",
    "    income_statement_transformer.process_data()\n",
    "    income_statement_transformer.tag_data()\n",
    "    income_statement_transformer.archive_files()\n",
    "\n",
    "    # Process cash flow data\n",
    "    cash_flow_transformer = CashFlowTransformer()\n",
    "    cash_flow_transformer.load_data()\n",
    "    cash_flow_transformer.process_data()\n",
    "    cash_flow_transformer.tag_data()\n",
    "    cash_flow_transformer.archive_files()\n",
    "\n",
    "    # Generate scripts\n",
    "    generate_scripts_main()\n",
    "\n",
    "if __name__ == \"__main__\":\n",
    "    main()"
   ]
  },
  {
   "cell_type": "code",
   "execution_count": 7,
   "metadata": {},
   "outputs": [],
   "source": [
    "#"
   ]
  }
 ],
 "metadata": {
  "kernelspec": {
   "display_name": "financial_modeling",
   "language": "python",
   "name": "python3"
  },
  "language_info": {
   "codemirror_mode": {
    "name": "ipython",
    "version": 3
   },
   "file_extension": ".py",
   "mimetype": "text/x-python",
   "name": "python",
   "nbconvert_exporter": "python",
   "pygments_lexer": "ipython3",
   "version": "3.11.10"
  }
 },
 "nbformat": 4,
 "nbformat_minor": 2
}
